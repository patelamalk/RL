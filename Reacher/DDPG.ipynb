{
 "cells": [
  {
   "cell_type": "markdown",
   "metadata": {},
   "source": [
    "### Explore the environment"
   ]
  },
  {
   "cell_type": "markdown",
   "metadata": {},
   "source": [
    "- Goal is to solve the [reacher](https://github.com/Unity-Technologies/ml-agents/blob/master/docs/Learning-Environment-Examples.md#reacher) environment from Unity\n",
    "- A double jointed arm can move to target locations\n",
    "- A **reward of +0.1** is provided for each step, where the agent's hand is in the goal location\n",
    "- The **state space is comprised of 33 variables**; corresponding to position, rotation, velocity & angular velocities\n",
    "- **Action space is a vector of 4 numbers** having an entry b/w **+1 and -1**\n",
    "- **Solving : +30 avg. reward over 100 episodes**\n",
    "\n",
    "![Reacher.gif](reacher.gif)"
   ]
  },
  {
   "cell_type": "code",
   "execution_count": 2,
   "metadata": {},
   "outputs": [],
   "source": [
    "from unityagents import UnityEnvironment"
   ]
  },
  {
   "cell_type": "code",
   "execution_count": 3,
   "metadata": {},
   "outputs": [
    {
     "name": "stderr",
     "output_type": "stream",
     "text": [
      "INFO:unityagents:\n",
      "'Academy' started successfully!\n",
      "Unity Academy name: Academy\n",
      "        Number of Brains: 1\n",
      "        Number of External Brains : 1\n",
      "        Lesson number : 0\n",
      "        Reset Parameters :\n",
      "\t\tgoal_size -> 5.0\n",
      "\t\tgoal_speed -> 1.0\n",
      "Unity brain name: ReacherBrain\n",
      "        Number of Visual Observations (per agent): 0\n",
      "        Vector Observation space type: continuous\n",
      "        Vector Observation space size (per agent): 33\n",
      "        Number of stacked Vector Observation: 1\n",
      "        Vector Action space type: continuous\n",
      "        Vector Action space size (per agent): 4\n",
      "        Vector Action descriptions: , , , \n"
     ]
    }
   ],
   "source": [
    "env = UnityEnvironment(file_name='./Reacher_Linux_NoVis/Reacher.x86')"
   ]
  },
  {
   "cell_type": "code",
   "execution_count": 4,
   "metadata": {},
   "outputs": [],
   "source": [
    "# Get the default brain \n",
    "brain_name = env.brain_names[0]\n",
    "brain = env.brains[brain_name]"
   ]
  },
  {
   "cell_type": "code",
   "execution_count": 5,
   "metadata": {},
   "outputs": [
    {
     "name": "stdout",
     "output_type": "stream",
     "text": [
      "# of Agents : 20\n",
      "State Size  : (20, 33)\n",
      "Action Size : 4\n"
     ]
    }
   ],
   "source": [
    "# Explore the env state and action space\n",
    "env_info = env.reset(train_mode=True)[brain_name]\n",
    "# Num of agents\n",
    "num_agents = len(env_info.agents)\n",
    "print(\"# of Agents : {}\".format(num_agents))\n",
    "# State space \n",
    "state_size = env_info.vector_observations.shape\n",
    "print(\"State Size  : {}\".format(state_size))\n",
    "# Action size\n",
    "action_size = brain.vector_action_space_size\n",
    "print(\"Action Size : {}\".format(action_size))"
   ]
  },
  {
   "cell_type": "code",
   "execution_count": 6,
   "metadata": {},
   "outputs": [],
   "source": [
    "# To close the environment\n",
    "#env.close()"
   ]
  },
  {
   "cell_type": "markdown",
   "metadata": {},
   "source": [
    "### Imports"
   ]
  },
  {
   "cell_type": "code",
   "execution_count": 7,
   "metadata": {},
   "outputs": [],
   "source": [
    "# Torch imports\n",
    "import torch\n",
    "import torch.nn as nn\n",
    "import torch.nn.functional as F\n",
    "import torch.optim as optim\n",
    "\n",
    "# replaybuffer imports\n",
    "from collections import namedtuple, deque\n",
    "import random\n",
    "import numpy as np\n",
    "import copy\n",
    "\n",
    "# Plotting imports\n",
    "import matplotlib.pyplot as plt\n",
    "%matplotlib inline\n",
    "\n",
    "# Set the device\n",
    "device = torch.device(\"cuda:0\" if torch.cuda.is_available() else \"cpu\")"
   ]
  },
  {
   "cell_type": "markdown",
   "metadata": {},
   "source": [
    "### Theoretical Notes"
   ]
  },
  {
   "cell_type": "markdown",
   "metadata": {},
   "source": [
    "- DDPG uses stochastic behavior policy for exploration but estimates a deterministic target policy, which is easier to learn\n",
    "- Using correlated experiences leads to vast amount of variance in the approximation of the Q function\n",
    "- Thus using Experience buffer to store experiences and sample them randomly for learning in order to break the temporal correlations within epsiodes\n",
    "- Directly updating the Actor and Critic networks in DDPG causes learning algorithm to diverge\n",
    "- Using target networks for both Actor and Critic increases the stability.\n",
    "- The **TD target** and **loss function for the critic network** have equations:\n",
    "$${y_i} = {r_i} + \\gamma{Q'(s_{i+1}, \\mu'(s_{i+1}|{\\theta^{\\mu'}})|{\\theta^{Q'}})}$$\n",
    "$$L = \\frac{1}{N} \\sum_{i}(y_i - Q(s_i, a_i|\\theta^Q)^2)$$\n",
    "where,\n",
    "$$N - \\text{is the size of minibatch sampled}$$\n",
    "$$\\theta^{\\mu'} - \\text{weights of the target actor network}$$\n",
    "$$\\theta^{Q'} - \\text{weights of the target critic network}$$\n",
    "- The critic policy can be updated with the gradients from the loss function above\n",
    "- The actor network is updated with the deterministic policy gradient\n",
    "- [David Silver](http://proceedings.mlr.press/v32/silver14.pdf) proves that the gradient of the stochastic and deterministic policy is the equivalent\n",
    "$$ \\nabla_{\\theta\\mu}\\mu\\approx\\mathbb{E}_{\\mu'}[\\nabla_aQ(s, a|\\theta^Q)|_{s={s_t}, a=\\mu({s_t})} \\nabla_{\\theta^\\mu}\\mu(s|\\theta^\\mu)|_{s={s_t}}$$\n",
    "- **All this means is that we need gradients of the output of the critic network multiplied by the gradient of the output of the actor network w.r.t. it's parameters, averaged over a minibatch**"
   ]
  },
  {
   "cell_type": "markdown",
   "metadata": {},
   "source": [
    "### Models for Actor and Critic"
   ]
  },
  {
   "cell_type": "code",
   "execution_count": 8,
   "metadata": {},
   "outputs": [],
   "source": [
    "class Actor(nn.Module):\n",
    "    def __init__(self, state_size, action_size, fc1=256, fc2=128, leak=0.01):\n",
    "        \"\"\" Initialize parameters and build model.\n",
    "        Params\n",
    "        ======\n",
    "            state_size (int): Dimension of each state\n",
    "            action_size (int): Dimension of each action\n",
    "            hidden_size (int): Number of nodes in hidden layers\n",
    "            leak: amount of leakiness in leaky relu\n",
    "        \"\"\"\n",
    "        super(Actor, self).__init__()\n",
    "        self.leak = leak\n",
    "        \n",
    "        self.fc1 = nn.Linear(state_size, fc1)\n",
    "        self.fc2 = nn.Linear(fc1, fc2)\n",
    "        self.fc3 = nn.Linear(fc2, action_size)\n",
    "\n",
    "        self.bn = nn.BatchNorm1d(state_size)\n",
    "        self.reset_parameters()\n",
    "\n",
    "    def reset_parameters(self):\n",
    "        \"\"\" Initilaize the weights using He et al (2015) weights \"\"\"\n",
    "        torch.nn.init.kaiming_normal_(self.fc1.weight.data, a=self.leak, mode='fan_in')\n",
    "        torch.nn.init.kaiming_normal_(self.fc2.weight.data, a=self.leak, mode='fan_in')\n",
    "        torch.nn.init.uniform_(self.fc3.weight.data, -3e-3, 3e-3)\n",
    "\n",
    "    def forward(self, state):\n",
    "        \"\"\"Build an actor (policy) network that maps states -> actions.\"\"\"\n",
    "        state = self.bn(state)\n",
    "        x = F.leaky_relu(self.fc1(state), negative_slope=self.leak)\n",
    "        x = F.leaky_relu(self.fc2(x), negative_slope=self.leak)\n",
    "        x =  torch.tanh(self.fc3(x))\n",
    "        return x\n",
    "\n",
    "\n",
    "class Critic(nn.Module):\n",
    "    def __init__(self, state_size, action_size, fc1=256, fc2=128, fc3=128, leak=0.01):\n",
    "        \"\"\"Initialize parameters and build model.\n",
    "        Params\n",
    "        ======\n",
    "            state_size (int): Dimension of each state\n",
    "            action_size (int): Dimension of each action\n",
    "            fcs1_units (int): Number of nodes in the first hidden layer\n",
    "            fc2_units (int): Number of nodes in the second hidden layer\n",
    "            hidden_size:\n",
    "        \"\"\"\n",
    "        super(Critic, self).__init__()\n",
    "        self.leak = leak\n",
    "        self.bn = nn.BatchNorm1d(state_size)\n",
    "        self.fcs1 = nn.Linear(state_size, fc1)\n",
    "        self.fc2 = nn.Linear(fc1 + action_size, fc2)\n",
    "        self.fc3 = nn.Linear(fc2, fc3)\n",
    "        self.fc4 = nn.Linear(fc3, 1)\n",
    "        self.reset_parameters()\n",
    "\n",
    "    def reset_parameters(self):\n",
    "        \"\"\" Initilaize the weights using He et al (2015) weights \"\"\"\n",
    "        torch.nn.init.kaiming_normal_(self.fcs1.weight.data, a=self.leak, mode='fan_in')\n",
    "        torch.nn.init.kaiming_normal_(self.fc2.weight.data, a=self.leak, mode='fan_in')\n",
    "        torch.nn.init.uniform_(self.fc3.weight.data, -3e-3, 3e-3)\n",
    "\n",
    "    def forward(self, state, action):\n",
    "        \"\"\" Build a critic (value) network that maps (state, action) pairs -> Q-values.\"\"\"\n",
    "        state = self.bn(state)\n",
    "        x = F.leaky_relu(self.fcs1(state), negative_slope=self.leak)\n",
    "        x = torch.cat((x, action), dim=1)\n",
    "        x = F.leaky_relu(self.fc2(x), negative_slope=self.leak)\n",
    "        x = F.leaky_relu(self.fc3(x), negative_slope=self.leak)\n",
    "        x =  self.fc4(x)\n",
    "        return x\n"
   ]
  },
  {
   "cell_type": "markdown",
   "metadata": {},
   "source": [
    "### Replay Buffer\n",
    "\n",
    "- The replay buffer is used to solve the problem of correlation bw episodes used for learning since we randomly sample experiences to learn from"
   ]
  },
  {
   "cell_type": "code",
   "execution_count": 9,
   "metadata": {},
   "outputs": [],
   "source": [
    "class ReplayBuffer:\n",
    "    \"\"\"Fixed-size buffer to store experience tuples.\"\"\"\n",
    "\n",
    "    def __init__(self, action_size, buffer_size, batch_size):\n",
    "        \"\"\"Initialize a ReplayBuffer object.\n",
    "        Params\n",
    "        ======\n",
    "            buffer_size (int): maximum size of buffer\n",
    "            batch_size (int): size of each training batch\n",
    "        \"\"\"\n",
    "        self.action_size = action_size\n",
    "        self.memory = deque(maxlen=buffer_size)\n",
    "        self.batch_size = batch_size\n",
    "        self.experience = namedtuple(\"Experience\", field_names=[\"state\", \"action\", \"reward\", \"next_state\", \"done\"])\n",
    "\n",
    "    def add(self, state, action, reward, next_state, done):\n",
    "        \"\"\"Add a new experience to memory.\"\"\"\n",
    "        e = self.experience(state, action, reward, next_state, done)\n",
    "        self.memory.append(e)\n",
    "\n",
    "    def sample(self):\n",
    "        \"\"\"Randomly sample a batch of experiences from memory.\"\"\"\n",
    "        experiences = random.sample(self.memory, k=self.batch_size)\n",
    "        states = torch.from_numpy(np.vstack([e.state for e in experiences if e is not None])).float().to(device)\n",
    "        actions = torch.from_numpy(np.vstack([e.action for e in experiences if e is not None])).float().to(device)\n",
    "        rewards = torch.from_numpy(np.vstack([e.reward for e in experiences if e is not None])).float().to(device)\n",
    "        next_states = torch.from_numpy(np.vstack([e.next_state for e in experiences if e is not None])).float().to(device)\n",
    "        dones = torch.from_numpy(np.vstack([e.done for e in experiences if e is not None]).astype(np.uint8)).float().to(device)\n",
    "\n",
    "        return (states, actions, rewards, next_states, dones)\n",
    "\n",
    "    def __len__(self):\n",
    "        \"\"\"Return the current size of internal memory.\"\"\"\n",
    "        return len(self.memory)"
   ]
  },
  {
   "cell_type": "markdown",
   "metadata": {},
   "source": [
    "### Ornstein-Uhlenbeck Process\n",
    "- Since the policy is deterministic, it can produce the same actions\n",
    "- For exploration we add additive noise to deterministic action to explore the action\n",
    "- To generate the correlated noise we use OU process given by equation\n",
    "$$ dx_t = \\theta(\\mu - x_t) + \\sigma dW_t$$  \n",
    "$$ \\text{where,  } dW_t = \\mathcal{N}(0, dt)$$\n",
    "$$ \\mu = \\text{mean of the process}$$\n",
    "$$ \\theta = \\text{friction, how fast it varies with noise} $$\n",
    "$$ \\sigma = \\text{controls the amount of random noise} $$"
   ]
  },
  {
   "cell_type": "code",
   "execution_count": 10,
   "metadata": {},
   "outputs": [],
   "source": [
    "class OUNoise:\n",
    "    \"\"\"Ornstein-Uhlenbeck process.\"\"\"\n",
    "\n",
    "    def __init__(self, size, mu=0., theta=0.15, sigma=0.2):\n",
    "        \"\"\"Initialize parameters and noise process.\"\"\"\n",
    "        self.mu = mu * np.ones(size)\n",
    "        self.theta = theta\n",
    "        self.sigma = sigma\n",
    "        self.reset()\n",
    "\n",
    "    def reset(self):\n",
    "        \"\"\"Reset the internal state (= noise) to mean (mu).\"\"\"\n",
    "        self.state = copy.copy(self.mu)\n",
    "\n",
    "    def sample(self):\n",
    "        \"\"\"Update internal state and return it as a noise sample.\"\"\"\n",
    "        x = self.state\n",
    "        dx = self.theta * (self.mu - x) + self.sigma * np.array([np.random.random() for i in range(len(x))])\n",
    "        self.state = x + dx\n",
    "        return self.state"
   ]
  },
  {
   "cell_type": "markdown",
   "metadata": {},
   "source": [
    "### Agent Class"
   ]
  },
  {
   "cell_type": "code",
   "execution_count": 11,
   "metadata": {},
   "outputs": [],
   "source": [
    "# Hyperparameters\n",
    "BUFFER_SIZE = int(1e6)  # replay buffer size\n",
    "BATCH_SIZE = 1024       # minibatch size\n",
    "GAMMA = 0.99            # discount factor\n",
    "TAU = 1e-3              # for soft update of target parameters\n",
    "LR_ACTOR = 1e-4         # learning rate of the actor\n",
    "LR_CRITIC = 3e-4        # learning rate of the critic\n",
    "WEIGHT_DECAY = 0.0001   # L2 weight decay\n",
    "LEAKINESS = 0.01"
   ]
  },
  {
   "cell_type": "code",
   "execution_count": 12,
   "metadata": {},
   "outputs": [],
   "source": [
    "class Agent():\n",
    "    \n",
    "    def __init__(self, state_size, action_size, n_agents=1):\n",
    "        \"\"\"Initialize an Agent object.\n",
    "        Params\n",
    "        ======\n",
    "            state_size (int): dimension of each state\n",
    "            action_size (int): dimension of each action\n",
    "            n_agents: number of agents it will control in the environment\n",
    "        \"\"\"\n",
    "        self.state_size = state_size\n",
    "        self.action_size = action_size\n",
    "        self.n_agents = n_agents\n",
    "\n",
    "        # Actor Network (w/ Target Network)\n",
    "        self.actor_local = Actor(state_size, action_size, leak=LEAKINESS).to(device)\n",
    "        self.actor_target = Actor(state_size, action_size, leak=LEAKINESS).to(device)\n",
    "        self.actor_optimizer = optim.Adam(self.actor_local.parameters(), lr=LR_ACTOR)\n",
    "\n",
    "        # Critic Network (w/ Target Network)\n",
    "        self.critic_local = Critic(state_size, action_size, leak=LEAKINESS).to(device)\n",
    "        self.critic_target = Critic(state_size, action_size, leak=LEAKINESS).to(device)\n",
    "        self.critic_optimizer = optim.Adam(self.critic_local.parameters(), lr=LR_CRITIC)\n",
    "        # self.critic_optimizer = optim.Adam(self.critic_local.parameters(), lr=LR_CRITIC, weight_decay=WEIGHT_DECAY)\n",
    "\n",
    "        # Noise process\n",
    "        self.noise = OUNoise(action_size)\n",
    "\n",
    "        # Replay memory\n",
    "        self.memory = ReplayBuffer(action_size, BUFFER_SIZE, BATCH_SIZE)\n",
    "        self.timesteps = 0  \n",
    "\n",
    "    \n",
    "    def step(self, states, actions, rewards, next_states, dones):\n",
    "        \"\"\" Given a batch of S,A,R,S' experiences, it saves them into the\n",
    "            experience buffer, and occasionally samples from the experience\n",
    "            buffer to perform training steps.\n",
    "        \"\"\"\n",
    "        self.timesteps += 1\n",
    "        for i in range(self.n_agents):\n",
    "            self.memory.add(states[i], actions[i], rewards[i], next_states[i], dones[i])\n",
    "\n",
    "        if (len(self.memory) > BATCH_SIZE) and (self.timesteps % 20 == 0):\n",
    "            for _ in range(10):\n",
    "                experiences = self.memory.sample()\n",
    "                self.learn(experiences, GAMMA)\n",
    "\n",
    "    \n",
    "    def act(self, states, add_noise=True):\n",
    "        \"\"\"Returns actions for given state as per current policy.\"\"\"\n",
    "        states = torch.from_numpy(states).float().to(device)\n",
    "        self.actor_local.eval()\n",
    "        with torch.no_grad():\n",
    "            actions = self.actor_local(states).cpu().data.numpy()\n",
    "        self.actor_local.train()\n",
    "        if add_noise:\n",
    "            actions = actions + [self.noise.sample() for _ in range(self.n_agents)]\n",
    "        return np.clip(actions, -1, 1)\n",
    "\n",
    "    \n",
    "    def reset(self):\n",
    "        self.noise.reset()\n",
    "\n",
    "    \n",
    "    def learn(self, experiences, gamma):\n",
    "        \"\"\"Update policy and value parameters using given batch of experience tuples.\n",
    "        Q_targets = r + γ * critic_target(next_state, actor_target(next_state))\n",
    "        where:\n",
    "            actor_target(state) -> action\n",
    "            critic_target(state, action) -> Q-value\n",
    "        Params\n",
    "        ======\n",
    "            experiences (Tuple[torch.Tensor]): tuple of (s, a, r, s', done) tuples\n",
    "            gamma (float): discount factor\n",
    "        \"\"\"\n",
    "        states, actions, rewards, next_states, dones = experiences\n",
    "\n",
    "        # ---------------------------- update critic ---------------------------- #\n",
    "        # Get predicted next-state actions and Q values from target models\n",
    "        actions_next = self.actor_target(next_states)\n",
    "        Q_targets_next = self.critic_target(next_states, actions_next)\n",
    "        # Compute Q targets for current states (y_i)\n",
    "        Q_targets = rewards + (gamma * Q_targets_next * (1 - dones))\n",
    "        # Compute critic loss\n",
    "        Q_expected = self.critic_local(states, actions)\n",
    "        critic_loss = F.mse_loss(Q_expected, Q_targets)\n",
    "        # Minimize the loss\n",
    "        self.critic_optimizer.zero_grad()\n",
    "        critic_loss.backward()\n",
    "        self.critic_optimizer.step()\n",
    "\n",
    "        # ---------------------------- update actor ---------------------------- #\n",
    "        # Compute actor loss\n",
    "        actions_pred = self.actor_local(states)\n",
    "        actor_loss = -self.critic_local(states, actions_pred).mean()\n",
    "        # Minimize the loss\n",
    "        self.actor_optimizer.zero_grad()\n",
    "        actor_loss.backward()\n",
    "        self.actor_optimizer.step()\n",
    "\n",
    "        # ----------------------- update target networks ----------------------- #\n",
    "        self.soft_update(self.critic_local, self.critic_target, TAU)\n",
    "        self.soft_update(self.actor_local, self.actor_target, TAU)\n",
    "\n",
    "    \n",
    "    def soft_update(self, local_model, target_model, tau):\n",
    "        \"\"\"Soft update model parameters.\n",
    "        θ_target = τ*θ_local + (1 - τ)*θ_target\n",
    "        Params\n",
    "        ======\n",
    "            local_model: PyTorch model (weights will be copied from)\n",
    "            target_model: PyTorch model (weights will be copied to)\n",
    "            tau (float): interpolation parameter\n",
    "        \"\"\"\n",
    "        for target_param, local_param in zip(target_model.parameters(), local_model.parameters()):\n",
    "            target_param.data.copy_(tau*local_param.data + (1.0-tau)*target_param.data)"
   ]
  },
  {
   "cell_type": "markdown",
   "metadata": {},
   "source": [
    "### Train loop"
   ]
  },
  {
   "cell_type": "code",
   "execution_count": 13,
   "metadata": {},
   "outputs": [],
   "source": [
    "state_size = 33\n",
    "action_size = 4\n",
    "num_agents = 20\n",
    "\n",
    "# Create agent\n",
    "agent = Agent(state_size=state_size, action_size=action_size, n_agents=num_agents)"
   ]
  },
  {
   "cell_type": "code",
   "execution_count": 14,
   "metadata": {},
   "outputs": [],
   "source": [
    "def ddpg(n_episodes=2000, max_t=1000, window_size=100, score_threshold=30.0, \n",
    "         print_interval=10, episodes=1000):\n",
    "\n",
    "    scores_deque = deque(maxlen=window_size) \n",
    "    scores = []        \n",
    "    best_average_score = 0\n",
    "    \n",
    "    for i_episode in range(1, episodes+1):\n",
    "        \n",
    "        env_info = env.reset(train_mode=True)[brain_name]\n",
    "        states = env_info.vector_observations\n",
    "        \n",
    "        agent.reset()\n",
    "        episode_scores = np.zeros(num_agents) \n",
    "\n",
    "        for t in range(max_t):\n",
    "            actions = agent.act(states)\n",
    "            env_info = env.step(actions)[brain_name]\n",
    "            next_states = env_info.vector_observations\n",
    "            rewards = env_info.rewards\n",
    "            dones = env_info.local_done\n",
    "            #print(f\"Reward : {rewards}\")\n",
    "            agent.step(states=states, actions=actions, rewards=rewards, next_states=next_states, dones=dones)\n",
    "            episode_scores += np.array(rewards)\n",
    "            states = next_states\n",
    "            if np.any(dones):\n",
    "                break\n",
    "\n",
    "        episode_score = np.mean(episode_scores)\n",
    "        scores_deque.append(episode_score)\n",
    "        scores.append(episode_score)\n",
    "        average_score = np.mean(scores_deque)\n",
    "\n",
    "        print('\\rEpisode: {}\\tAverage Score: {:.2f}\\tCurrent Score: {:.2f}'.format(i_episode, average_score, episode_score), end=\"\")\n",
    "        if i_episode % print_interval == 0:\n",
    "            print('\\rEpisode: {}\\tAverage Score: {:.2f}\\tCurrent Score: {:.2f}'.format(i_episode, average_score, episode_score))\n",
    "\n",
    "        if average_score >= score_threshold:\n",
    "            print('\\nEnvironment solved in {} episodes!\\tAverage Score: {:.2f}'.format(i_episode-window_size, average_score))\n",
    "            torch.save(agent.actor_local.state_dict(), 'actor.ckpt')\n",
    "            torch.save(agent.critic_local.state_dict(), 'critic.ckpt')\n",
    "            break\n",
    "\n",
    "    np.save('scores.npy', scores)\n",
    "    return scores"
   ]
  },
  {
   "cell_type": "code",
   "execution_count": 15,
   "metadata": {},
   "outputs": [
    {
     "name": "stdout",
     "output_type": "stream",
     "text": [
      "Episode: 10\tAverage Score: 0.51\tCurrent Score: 0.95\n",
      "Episode: 20\tAverage Score: 0.75\tCurrent Score: 1.05\n",
      "Episode: 30\tAverage Score: 0.98\tCurrent Score: 1.88\n",
      "Episode: 40\tAverage Score: 1.40\tCurrent Score: 2.94\n",
      "Episode: 50\tAverage Score: 1.87\tCurrent Score: 4.35\n",
      "Episode: 60\tAverage Score: 2.39\tCurrent Score: 5.00\n",
      "Episode: 70\tAverage Score: 2.77\tCurrent Score: 5.22\n",
      "Episode: 80\tAverage Score: 3.23\tCurrent Score: 6.51\n",
      "Episode: 90\tAverage Score: 3.71\tCurrent Score: 9.58\n",
      "Episode: 100\tAverage Score: 4.29\tCurrent Score: 10.12\n",
      "Episode: 110\tAverage Score: 5.14\tCurrent Score: 9.00\n",
      "Episode: 120\tAverage Score: 6.10\tCurrent Score: 12.28\n",
      "Episode: 130\tAverage Score: 7.28\tCurrent Score: 14.71\n",
      "Episode: 140\tAverage Score: 8.66\tCurrent Score: 18.87\n",
      "Episode: 150\tAverage Score: 10.37\tCurrent Score: 20.98\n",
      "Episode: 160\tAverage Score: 12.11\tCurrent Score: 21.47\n",
      "Episode: 170\tAverage Score: 13.95\tCurrent Score: 26.43\n",
      "Episode: 180\tAverage Score: 15.86\tCurrent Score: 25.15\n",
      "Episode: 190\tAverage Score: 17.68\tCurrent Score: 26.00\n",
      "Episode: 200\tAverage Score: 19.28\tCurrent Score: 23.58\n",
      "Episode: 210\tAverage Score: 20.94\tCurrent Score: 24.58\n",
      "Episode: 220\tAverage Score: 22.35\tCurrent Score: 26.76\n",
      "Episode: 230\tAverage Score: 23.67\tCurrent Score: 27.40\n",
      "Episode: 240\tAverage Score: 24.71\tCurrent Score: 26.99\n",
      "Episode: 250\tAverage Score: 25.42\tCurrent Score: 29.07\n",
      "Episode: 260\tAverage Score: 26.26\tCurrent Score: 32.09\n",
      "Episode: 270\tAverage Score: 27.10\tCurrent Score: 31.20\n",
      "Episode: 280\tAverage Score: 27.59\tCurrent Score: 30.32\n",
      "Episode: 290\tAverage Score: 27.85\tCurrent Score: 26.14\n",
      "Episode: 300\tAverage Score: 28.11\tCurrent Score: 28.80\n",
      "Episode: 310\tAverage Score: 28.33\tCurrent Score: 28.67\n",
      "Episode: 320\tAverage Score: 28.81\tCurrent Score: 30.51\n",
      "Episode: 330\tAverage Score: 29.10\tCurrent Score: 29.76\n",
      "Episode: 340\tAverage Score: 29.39\tCurrent Score: 30.77\n",
      "Episode: 350\tAverage Score: 29.33\tCurrent Score: 26.31\n",
      "Episode: 360\tAverage Score: 28.86\tCurrent Score: 27.26\n",
      "Episode: 370\tAverage Score: 28.37\tCurrent Score: 28.95\n",
      "Episode: 380\tAverage Score: 27.99\tCurrent Score: 25.90\n",
      "Episode: 390\tAverage Score: 28.01\tCurrent Score: 27.14\n",
      "Episode: 400\tAverage Score: 28.05\tCurrent Score: 30.17\n",
      "Episode: 410\tAverage Score: 28.11\tCurrent Score: 29.04\n",
      "Episode: 420\tAverage Score: 27.90\tCurrent Score: 26.88\n",
      "Episode: 430\tAverage Score: 27.90\tCurrent Score: 30.87\n",
      "Episode: 440\tAverage Score: 27.76\tCurrent Score: 26.84\n",
      "Episode: 450\tAverage Score: 27.92\tCurrent Score: 31.40\n",
      "Episode: 460\tAverage Score: 28.33\tCurrent Score: 31.11\n",
      "Episode: 470\tAverage Score: 28.69\tCurrent Score: 29.36\n",
      "Episode: 480\tAverage Score: 29.11\tCurrent Score: 31.60\n",
      "Episode: 490\tAverage Score: 29.42\tCurrent Score: 31.92\n",
      "Episode: 500\tAverage Score: 29.75\tCurrent Score: 33.93\n",
      "Episode: 506\tAverage Score: 30.05\tCurrent Score: 33.43\n",
      "Environment solved in 406 episodes!\tAverage Score: 30.05\n"
     ]
    }
   ],
   "source": [
    "scores = ddpg()"
   ]
  },
  {
   "cell_type": "code",
   "execution_count": 16,
   "metadata": {},
   "outputs": [
    {
     "data": {
      "image/png": "[encoded data removed]",
      "text/plain": [
       "<Figure size 432x288 with 1 Axes>"
      ]
     },
     "metadata": {
      "needs_background": "light"
     },
     "output_type": "display_data"
    }
   ],
   "source": [
    "f = plt.figure()\n",
    "ax = f.add_subplot(111)\n",
    "plt.plot(range(1, len(scores) + 1), scores)\n",
    "plt.xlabel('# Episodes')\n",
    "plt.ylabel('Scores')\n",
    "plt.savefig('scores_plot.png')\n",
    "plt.show()"
   ]
  },
  {
   "cell_type": "markdown",
   "metadata": {},
   "source": [
    "### References:\n",
    "\n",
    "[Patrick Emami - Deep Deterministic Policy Gradients in TensorFlow](http://proceedings.mlr.press/v32/silver14.pdf)   \n",
    "[David Silver - Deep deterministic Policy Gradients (**Theory**)](http://proceedings.mlr.press/v32/silver14.pdf)   \n",
    "[Julian Vitey - Deep RL (**DDPG algorithm**)](https://julien-vitay.net/deeprl/DeepRL.pdf)"
   ]
  }
 ],
 "metadata": {
  "kernelspec": {
   "display_name": "Python 3",
   "language": "python",
   "name": "python3"
  },
  "language_info": {
   "codemirror_mode": {
    "name": "ipython",
    "version": 3
   },
   "file_extension": ".py",
   "mimetype": "text/x-python",
   "name": "python",
   "nbconvert_exporter": "python",
   "pygments_lexer": "ipython3",
   "version": "3.8.3"
  }
 },
 "nbformat": 4,
 "nbformat_minor": 4
}
