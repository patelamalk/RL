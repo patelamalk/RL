{
  "nbformat": 4,
  "nbformat_minor": 0,
  "metadata": {
    "colab": {
      "name": "Sarsa.ipynb",
      "provenance": [],
      "collapsed_sections": []
    },
    "kernelspec": {
      "name": "python3",
      "display_name": "Python 3"
    }
  },
  "cells": [
    {
      "cell_type": "code",
      "metadata": {
        "id": "UYWsqvm1HI-K",
        "colab_type": "code",
        "colab": {}
      },
      "source": [
        "import sys\n",
        "import gym\n",
        "import numpy as np\n",
        "from collections import defaultdict\n",
        "import operator\n",
        "import matplotlib.pyplot as plt"
      ],
      "execution_count": 0,
      "outputs": []
    },
    {
      "cell_type": "code",
      "metadata": {
        "id": "ICivONM1HUBX",
        "colab_type": "code",
        "colab": {}
      },
      "source": [
        "env = gym.make('CliffWalking-v0')"
      ],
      "execution_count": 0,
      "outputs": []
    },
    {
      "cell_type": "code",
      "metadata": {
        "id": "w6N7PhaDHYb7",
        "colab_type": "code",
        "colab": {
          "base_uri": "https://localhost:8080/",
          "height": 51
        },
        "outputId": "a5d10b87-960d-4e95-fdc1-4ca0884c626a"
      },
      "source": [
        "# 4x12 gridworld\n",
        "print(env.observation_space)\n",
        "# up, down, left, right\n",
        "print(env.action_space)"
      ],
      "execution_count": 88,
      "outputs": [
        {
          "output_type": "stream",
          "text": [
            "Discrete(48)\n",
            "Discrete(4)\n"
          ],
          "name": "stdout"
        }
      ]
    },
    {
      "cell_type": "code",
      "metadata": {
        "id": "zdOC75L1QqPV",
        "colab_type": "code",
        "colab": {}
      },
      "source": [
        "def Q_update(Qs, Qn, r, alpha, gamma):\n",
        "  return Qs + (alpha * (r + (gamma * Qn) - Qs))"
      ],
      "execution_count": 0,
      "outputs": []
    },
    {
      "cell_type": "code",
      "metadata": {
        "id": "7mxzOuLwRCXm",
        "colab_type": "code",
        "colab": {}
      },
      "source": [
        "def epsilon_greedy(env, Qs, episode, eps=None):\n",
        "  \"\"\"\n",
        "  General Epsilon Greedy policy for setting probabilities\n",
        "  \"\"\"\n",
        "  epsilon = 1.0 / episode\n",
        "  if eps is not None:\n",
        "    epsilon = eps\n",
        "  policy = np.ones(env.nA) * epsilon / env.nA\n",
        "  policy[np.argmax(Qs)] = 1 - epsilon + (epsilon / env.nA)\n",
        "  return policy"
      ],
      "execution_count": 0,
      "outputs": []
    },
    {
      "cell_type": "markdown",
      "metadata": {
        "id": "XSb_jq1yskSR",
        "colab_type": "text"
      },
      "source": [
        "## Sarsa update"
      ]
    },
    {
      "cell_type": "code",
      "metadata": {
        "id": "NYCEQ7q6M9Pd",
        "colab_type": "code",
        "colab": {}
      },
      "source": [
        "def sarsa(env, num_episodes, alpha, gamma=1.0):\n",
        "  \"\"\"\n",
        "  Sarsa(0) update rule for Q values\n",
        "  \"\"\"\n",
        "  Q = defaultdict(lambda : np.zeros(env.nA))\n",
        "  scores = []\n",
        "  for i in range(1, num_episodes):\n",
        "    if i % 1000 == 0:\n",
        "      print(\"Episode : {}\".format(i))\n",
        "    score = 0\n",
        "    ctr = 0\n",
        "    state = env.reset()\n",
        "    policy = epsilon_greedy(env, state, i)\n",
        "    action = np.random.choice(np.arange(env.nA), p=policy)\n",
        "    # time steps per episode is 200\n",
        "    while True:\n",
        "      ctr += 1\n",
        "      next_state, reward, done, _ = env.step(action)\n",
        "      score += reward\n",
        "      if not done:\n",
        "        # Update policy greedy\n",
        "        policy_upd = epsilon_greedy(env, Q[next_state], i)\n",
        "        # Take action with greedy policy\n",
        "        next_action = np.random.choice(np.arange(env.nA), p=policy_upd)\n",
        "        # Update Q for current (state, action)\n",
        "        Q[state][action] = Q_update(Q[state][action], Q[next_state][next_action], reward, alpha, gamma)\n",
        "        # Set state=next_state\n",
        "        state = next_state\n",
        "        # Set action=next_action\n",
        "        action = next_action\n",
        "      if done:\n",
        "        Q[state][action] = Q_update(Q[state][action], 0, reward, alpha, gamma)\n",
        "        break\n",
        "    scores.append(score / ctr)\n",
        "  plt.plot(scores)\n",
        "  return Q"
      ],
      "execution_count": 0,
      "outputs": []
    },
    {
      "cell_type": "code",
      "metadata": {
        "id": "1D-2Bbi_hov3",
        "colab_type": "code",
        "colab": {
          "base_uri": "https://localhost:8080/",
          "height": 401
        },
        "outputId": "e6d5d263-84f2-4265-8ba0-dddc0216c49d"
      },
      "source": [
        "Q_sarsa = sarsa(env, 5000, 0.01)\n",
        "policy_sarsa = np.array([np.argmax(Q_sarsa[key]) if key in Q_sarsa else -1 for key in np.arange(48)]).reshape(4,12)\n",
        "#Q_sarsa = np.array([np.max(Q_sarsa[key] if key in Q_sarsa else 0 for key in np.arange(48))]).reshape(4, 12)\n",
        "print(policy_sarsa)\n",
        "#print(Q_sarsa)"
      ],
      "execution_count": 77,
      "outputs": [
        {
          "output_type": "stream",
          "text": [
            "Episode : 1000\n",
            "Episode : 2000\n",
            "Episode : 3000\n",
            "Episode : 4000\n",
            "[[ 1  1  1  1  1  1  1  2  1  1  2  2]\n",
            " [ 0  0  1  1  1  1  1  1  2  1  1  2]\n",
            " [ 0  0  0  0  1  1  1  1  1  1  1  2]\n",
            " [ 0 -1 -1 -1 -1 -1 -1 -1 -1 -1 -1 -1]]\n"
          ],
          "name": "stdout"
        },
        {
          "output_type": "display_data",
          "data": {
            "image/png": "[encoded data removed]",
            "text/plain": [
              "<Figure size 432x288 with 1 Axes>"
            ]
          },
          "metadata": {
            "tags": [],
            "needs_background": "light"
          }
        }
      ]
    },
    {
      "cell_type": "markdown",
      "metadata": {
        "id": "3QvUY6zqsgrJ",
        "colab_type": "text"
      },
      "source": [
        "## Sarsamax update"
      ]
    },
    {
      "cell_type": "code",
      "metadata": {
        "colab_type": "code",
        "id": "IhzbSYPxorIx",
        "colab": {}
      },
      "source": [
        "def sarsamax(env, num_episodes, alpha, gamma=1.0):\n",
        "  \"\"\"\n",
        "  Sarsamax update rule for Q values\n",
        "  \"\"\"\n",
        "  Q = defaultdict(lambda : np.zeros(env.nA))\n",
        "  scores = []\n",
        "  for i in range(1, num_episodes):\n",
        "    if i % 1000 == 0:\n",
        "      print(\"Episode : {}\".format(i))\n",
        "    score = 0\n",
        "    ctr = 0\n",
        "    state = env.reset()\n",
        "    while True:  \n",
        "      ctr += 1\n",
        "      # Get epsilon greedy policy\n",
        "      policy = epsilon_greedy(env, Q[state], i)\n",
        "      # Pick next action\n",
        "      action = np.random.choice(np.arange(env.nA), p=policy)\n",
        "      # Take a step\n",
        "      next_state, reward, done, _ = env.step(action)\n",
        "      # Add reward to score\n",
        "      score += reward\n",
        "      # Update the Q value\n",
        "      Q[state][action] = Q_update(Q[state][action], np.max(Q[state]), reward, alpha, gamma)\n",
        "      state = next_state\n",
        "      if done:\n",
        "        break\n",
        "    scores.append(score / ctr)\n",
        "  plt.plot(scores)\n",
        "  return Q"
      ],
      "execution_count": 0,
      "outputs": []
    },
    {
      "cell_type": "code",
      "metadata": {
        "id": "N878FPI-r0zh",
        "colab_type": "code",
        "colab": {
          "base_uri": "https://localhost:8080/",
          "height": 401
        },
        "outputId": "78e18e9f-fb5d-431d-f2d3-9344fe2179ce"
      },
      "source": [
        "Q_sarsamax = sarsamax(env, 5000, 0.01)\n",
        "policy_sarsamax = np.array([np.argmax(Q_sarsamax[key]) if key in Q_sarsamax else -1 for key in np.arange(48)]).reshape(4,12)\n",
        "policy_sarsamax"
      ],
      "execution_count": 85,
      "outputs": [
        {
          "output_type": "stream",
          "text": [
            "Episode : 1000\n",
            "Episode : 2000\n",
            "Episode : 3000\n",
            "Episode : 4000\n"
          ],
          "name": "stdout"
        },
        {
          "output_type": "execute_result",
          "data": {
            "text/plain": [
              "array([[ 0,  1,  3,  1,  1,  1,  3,  0,  1,  1,  1,  3],\n",
              "       [ 1,  2,  0,  2,  2,  0,  0,  0,  3,  1,  0,  0],\n",
              "       [ 3,  3,  3,  3,  3,  3,  3,  0,  3,  3,  0,  1],\n",
              "       [ 2, -1, -1, -1, -1, -1, -1, -1, -1, -1, -1, -1]])"
            ]
          },
          "metadata": {
            "tags": []
          },
          "execution_count": 85
        },
        {
          "output_type": "display_data",
          "data": {
            "image/png": "[encoded data removed]",
            "text/plain": [
              "<Figure size 432x288 with 1 Axes>"
            ]
          },
          "metadata": {
            "tags": [],
            "needs_background": "light"
          }
        }
      ]
    },
    {
      "cell_type": "markdown",
      "metadata": {
        "id": "_PZydi2NtGj4",
        "colab_type": "text"
      },
      "source": [
        "## Expected Sarsa"
      ]
    },
    {
      "cell_type": "markdown",
      "metadata": {
        "id": "GhqA1HDktRYu",
        "colab_type": "text"
      },
      "source": [
        "The update rule changes in the for loop :\n",
        "\n",
        "Q[state][action] = Q_update(Q[state)[action], np.dot(Q[next_state], policy), reward, alpha, gamma)"
      ]
    },
    {
      "cell_type": "code",
      "metadata": {
        "colab_type": "code",
        "id": "Uchkom5T9XcN",
        "colab": {}
      },
      "source": [
        "def expected_sarsa(env, num_episodes, alpha, gamma=1.0):\n",
        "  \"\"\"\n",
        "  Expected Sarsa update rule for Q values\n",
        "  \"\"\"\n",
        "  Q = defaultdict(lambda : np.zeros(env.nA))\n",
        "  scores = []\n",
        "  for i in range(1, num_episodes):\n",
        "    if i % 1000 == 0:\n",
        "      print(\"Episode : {}\".format(i))\n",
        "    score = 0\n",
        "    ctr = 0\n",
        "    state = env.reset()\n",
        "    while True: \n",
        "      ctr += 1\n",
        "      # Get epsilon greedy policy\n",
        "      policy = epsilon_greedy(env, Q[state], i)\n",
        "      # Pick next action\n",
        "      action = np.random.choice(np.arange(env.nA), p=policy)\n",
        "      # Take a step\n",
        "      next_state, reward, done, _ = env.step(action)\n",
        "      # Add reward to score\n",
        "      score += reward\n",
        "      # Update the Q value\n",
        "      Q[state][action] = Q_update(Q[state][action], np.max(Q[state]), reward, alpha, gamma)\n",
        "      state = next_state\n",
        "      if done:\n",
        "        break\n",
        "    scores.append(score / ctr)\n",
        "  plt.plot(scores)\n",
        "  return Q"
      ],
      "execution_count": 0,
      "outputs": []
    },
    {
      "cell_type": "code",
      "metadata": {
        "id": "006xqxUD9qTx",
        "colab_type": "code",
        "colab": {
          "base_uri": "https://localhost:8080/",
          "height": 401
        },
        "outputId": "852778dc-15e8-4134-c394-27262b7b1fec"
      },
      "source": [
        "Q_expected_sarsa = expected_sarsa(env, 5000, 0.01)\n",
        "policy_expected_sarsa = np.array([np.argmax(Q_expected_sarsa[key]) if key in Q_expected_sarsa else -1 for key in np.arange(48)]).reshape(4,12)\n",
        "policy_expected_sarsa"
      ],
      "execution_count": 92,
      "outputs": [
        {
          "output_type": "stream",
          "text": [
            "Episode : 1000\n",
            "Episode : 2000\n",
            "Episode : 3000\n",
            "Episode : 4000\n"
          ],
          "name": "stdout"
        },
        {
          "output_type": "execute_result",
          "data": {
            "text/plain": [
              "array([[ 3,  1,  2,  2,  2,  3,  3,  3,  1,  0,  2,  3],\n",
              "       [ 3,  0,  3,  1,  3,  0,  2,  3,  2,  3,  0,  0],\n",
              "       [ 0,  1,  1,  1,  1,  1,  3,  3,  3,  3,  3,  1],\n",
              "       [ 3, -1, -1, -1, -1, -1, -1, -1, -1, -1, -1, -1]])"
            ]
          },
          "metadata": {
            "tags": []
          },
          "execution_count": 92
        },
        {
          "output_type": "display_data",
          "data": {
            "image/png": "[encoded data removed]",
            "text/plain": [
              "<Figure size 432x288 with 1 Axes>"
            ]
          },
          "metadata": {
            "tags": [],
            "needs_background": "light"
          }
        }
      ]
    }
  ]
}